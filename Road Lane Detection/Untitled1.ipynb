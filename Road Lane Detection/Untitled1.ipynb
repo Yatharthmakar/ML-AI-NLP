{
 "cells": [
  {
   "cell_type": "code",
   "execution_count": 5,
   "id": "39f6820e",
   "metadata": {},
   "outputs": [],
   "source": [
    "import cv2\n",
    "import numpy as np\n",
    "\n",
    "def detect_lane(img):\n",
    "    # Convert the image to grayscale\n",
    "    gray = cv2.cvtColor(img, cv2.COLOR_BGR2RGB)\n",
    "\n",
    "    # Apply Gaussian blur to the image\n",
    "    blur = cv2.GaussianBlur(gray, (5, 5), 0)\n",
    "\n",
    "    # Apply Canny edge detection to the image\n",
    "    edges = cv2.Canny(blur, 50, 150)\n",
    "\n",
    "    # Define the region of interest\n",
    "    height, width = img.shape[:2]\n",
    "    mask = np.zeros_like(edges)\n",
    "    roi = np.array([[(0, height), (width/2, height/2), (width, height)]], dtype=np.int32)\n",
    "    cv2.fillPoly(mask, roi, 255)\n",
    "    masked_edges = cv2.bitwise_and(edges, mask)\n",
    "\n",
    "    # Define parameters for Hough transform\n",
    "    rho = 1\n",
    "    theta = np.pi/180\n",
    "    threshold = 50\n",
    "    min_line_length = 100\n",
    "    max_line_gap = 50\n",
    "\n",
    "    # Apply Hough transform to the image\n",
    "    lines = cv2.HoughLinesP(masked_edges, rho, theta, threshold, np.array([]), min_line_length, max_line_gap)\n",
    "\n",
    "    # Fit the lanes with a polynomial curve model\n",
    "    left_lane_pts = []\n",
    "    right_lane_pts = []\n",
    "    for line in lines:\n",
    "        x1, y1, x2, y2 = line[0]\n",
    "        if x1 == x2:\n",
    "            continue\n",
    "        slope = (y2 - y1) / (x2 - x1)\n",
    "        intercept = y1 - slope * x1\n",
    "        if slope < 0:\n",
    "            left_lane_pts.append((x1, y1))\n",
    "            left_lane_pts.append((x2, y2))\n",
    "        else:\n",
    "            right_lane_pts.append((x1, y1))\n",
    "            right_lane_pts.append((x2, y2))\n",
    "    left_lane_pts = np.array(left_lane_pts)\n",
    "    right_lane_pts = np.array(right_lane_pts)\n",
    "    left_curve = np.polyfit(left_lane_pts[:,0], left_lane_pts[:,1], 2)\n",
    "    right_curve = np.polyfit(right_lane_pts[:,0], right_lane_pts[:,1], 2)\n",
    "\n",
    "    # Draw the lanes on the image\n",
    "    lane_img = np.zeros_like(img)\n",
    "    yvals = np.linspace(0, height-1, height)\n",
    "    left_fitx = left_curve[0]*yvals**2 + left_curve[1]*yvals + left_curve[2]\n",
    "    right_fitx = right_curve[0]*yvals**2 + right_curve[1]*yvals + right_curve[2]\n",
    "    pts_left = np.array([np.transpose(np.vstack([left_fitx, yvals]))])\n",
    "    pts_right = np.array([np.flipud(np.transpose(np.vstack([right_fitx, yvals])))])\n",
    "    pts = np.hstack((pts_left, pts_right))\n",
    "    cv2.fillPoly(lane_img, np.int_([pts]), (0,255,0))\n",
    "    result = cv2.addWeighted(img, 1, lane_img, 0.3, 0)\n",
    "\n",
    "    return result\n"
   ]
  },
  {
   "cell_type": "code",
   "execution_count": 9,
   "id": "1995b936",
   "metadata": {},
   "outputs": [
    {
     "ename": "TypeError",
     "evalue": "'NoneType' object is not iterable",
     "output_type": "error",
     "traceback": [
      "\u001b[1;31m---------------------------------------------------------------------------\u001b[0m",
      "\u001b[1;31mTypeError\u001b[0m                                 Traceback (most recent call last)",
      "Input \u001b[1;32mIn [9]\u001b[0m, in \u001b[0;36m<module>\u001b[1;34m\u001b[0m\n\u001b[0;32m      1\u001b[0m img \u001b[38;5;241m=\u001b[39m cv2\u001b[38;5;241m.\u001b[39mimread(\u001b[38;5;124m'\u001b[39m\u001b[38;5;124mCurve.jpeg\u001b[39m\u001b[38;5;124m'\u001b[39m, \u001b[38;5;241m0\u001b[39m)\n\u001b[1;32m----> 2\u001b[0m imgs \u001b[38;5;241m=\u001b[39m \u001b[43mdetect_lane\u001b[49m\u001b[43m(\u001b[49m\u001b[43mimg\u001b[49m\u001b[43m)\u001b[49m\n\u001b[0;32m      3\u001b[0m cv2\u001b[38;5;241m.\u001b[39mimshow(\u001b[38;5;124m'\u001b[39m\u001b[38;5;124mframe\u001b[39m\u001b[38;5;124m'\u001b[39m, imgs)\n",
      "Input \u001b[1;32mIn [5]\u001b[0m, in \u001b[0;36mdetect_lane\u001b[1;34m(img)\u001b[0m\n\u001b[0;32m     32\u001b[0m left_lane_pts \u001b[38;5;241m=\u001b[39m []\n\u001b[0;32m     33\u001b[0m right_lane_pts \u001b[38;5;241m=\u001b[39m []\n\u001b[1;32m---> 34\u001b[0m \u001b[38;5;28;01mfor\u001b[39;00m line \u001b[38;5;129;01min\u001b[39;00m lines:\n\u001b[0;32m     35\u001b[0m     x1, y1, x2, y2 \u001b[38;5;241m=\u001b[39m line[\u001b[38;5;241m0\u001b[39m]\n\u001b[0;32m     36\u001b[0m     \u001b[38;5;28;01mif\u001b[39;00m x1 \u001b[38;5;241m==\u001b[39m x2:\n",
      "\u001b[1;31mTypeError\u001b[0m: 'NoneType' object is not iterable"
     ]
    }
   ],
   "source": [
    "img = cv2.imread('Curve.jpeg', 0)\n",
    "imgs = detect_lane(img)\n",
    "cv2.imshow('frame', imgs)"
   ]
  },
  {
   "cell_type": "code",
   "execution_count": null,
   "id": "99fa0231",
   "metadata": {},
   "outputs": [],
   "source": []
  }
 ],
 "metadata": {
  "kernelspec": {
   "display_name": "Python 3 (ipykernel)",
   "language": "python",
   "name": "python3"
  },
  "language_info": {
   "codemirror_mode": {
    "name": "ipython",
    "version": 3
   },
   "file_extension": ".py",
   "mimetype": "text/x-python",
   "name": "python",
   "nbconvert_exporter": "python",
   "pygments_lexer": "ipython3",
   "version": "3.8.6"
  }
 },
 "nbformat": 4,
 "nbformat_minor": 5
}
