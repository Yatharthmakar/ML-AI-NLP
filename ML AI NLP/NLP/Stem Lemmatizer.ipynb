{
 "cells": [
  {
   "cell_type": "code",
   "execution_count": 3,
   "id": "48786d0a",
   "metadata": {},
   "outputs": [
    {
     "name": "stdout",
     "output_type": "stream",
     "text": [
      "showing info https://raw.githubusercontent.com/nltk/nltk_data/gh-pages/index.xml\n"
     ]
    },
    {
     "data": {
      "text/plain": [
       "True"
      ]
     },
     "execution_count": 3,
     "metadata": {},
     "output_type": "execute_result"
    }
   ],
   "source": [
    "import nltk\n",
    "nltk.download()"
   ]
  },
  {
   "cell_type": "code",
   "execution_count": 4,
   "id": "659c3c54",
   "metadata": {},
   "outputs": [],
   "source": [
    "from nltk.stem import PorterStemmer as ps\n",
    "from nltk.tokenize import word_tokenize\n",
    "from nltk.stem.snowball import SnowballStemmer as ss\n",
    "from nltk.stem import WordNetLemmatizer\n",
    "lemmatizer = WordNetLemmatizer()"
   ]
  },
  {
   "cell_type": "code",
   "execution_count": 5,
   "id": "4b506936",
   "metadata": {},
   "outputs": [],
   "source": [
    "sentence = '''python is very important for pythoning sa as to pythoned with university faily singer'''\n",
    "words = sentence.split()"
   ]
  },
  {
   "cell_type": "code",
   "execution_count": 6,
   "id": "82bc1724",
   "metadata": {},
   "outputs": [
    {
     "name": "stdout",
     "output_type": "stream",
     "text": [
      "Porter Stemmer       Snowball Stemmer         Word Net Lemmatizer\n",
      "python      python           python\n",
      "is      is           is\n",
      "veri      veri           very\n",
      "import      import           important\n",
      "for      for           for\n",
      "python      python           pythoning\n",
      "sa      sa           sa\n",
      "as      as           a\n",
      "to      to           to\n",
      "python      python           pythoned\n",
      "with      with           with\n",
      "univers      univers           university\n",
      "faili      faili           faily\n",
      "singer      singer           singer\n"
     ]
    }
   ],
   "source": [
    "print(\"Porter Stemmer       Snowball Stemmer         Word Net Lemmatizer\")\n",
    "for word in words:\n",
    "    print(ps().stem(word)+\"      \"+ss(language='english').stem(word)+\"           \"+ lemmatizer.lemmatize(word))"
   ]
  },
  {
   "cell_type": "code",
   "execution_count": null,
   "id": "35cd3a6c",
   "metadata": {},
   "outputs": [],
   "source": []
  }
 ],
 "metadata": {
  "kernelspec": {
   "display_name": "Python 3 (ipykernel)",
   "language": "python",
   "name": "python3"
  },
  "language_info": {
   "codemirror_mode": {
    "name": "ipython",
    "version": 3
   },
   "file_extension": ".py",
   "mimetype": "text/x-python",
   "name": "python",
   "nbconvert_exporter": "python",
   "pygments_lexer": "ipython3",
   "version": "3.8.6"
  }
 },
 "nbformat": 4,
 "nbformat_minor": 5
}
