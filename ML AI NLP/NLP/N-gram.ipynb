{
 "cells": [
  {
   "cell_type": "code",
   "execution_count": 3,
   "metadata": {},
   "outputs": [],
   "source": [
    "from nltk.corpus import stopwords\n",
    "from nltk.tokenize import word_tokenize"
   ]
  },
  {
   "cell_type": "code",
   "execution_count": 4,
   "metadata": {},
   "outputs": [
    {
     "name": "stdout",
     "output_type": "stream",
     "text": [
      "['yatharth', 'awesome', 'study', 'chandigarh', 'unversity']\n"
     ]
    }
   ],
   "source": [
    "sentence = \"I am Yatharth! and i am awesome, I study in Chandigarh Unversity\"\n",
    "sentence = sentence.lower()\n",
    "stop_words = set(stopwords.words('english'))\n",
    "stop_words.add('!')\n",
    "stop_words.add(',')\n",
    "tokens = word_tokenize(sentence)\n",
    "filter_sentence = [w for w in tokens if w not in stop_words]\n",
    "print(filter_sentence)"
   ]
  },
  {
   "cell_type": "code",
   "execution_count": 5,
   "metadata": {},
   "outputs": [
    {
     "name": "stdout",
     "output_type": "stream",
     "text": [
      "[' yatharth', ' awesome', ' study', ' chandigarh', ' unversity']\n",
      "[' yatharth awesome', ' awesome study', ' study chandigarh', ' chandigarh unversity']\n",
      "[' yatharth awesome study', ' awesome study chandigarh', ' study chandigarh unversity']\n"
     ]
    }
   ],
   "source": [
    "def ngram(text, n):\n",
    "    grams = []\n",
    "    j=0\n",
    "    for y in range(0,len(text)-n+1):\n",
    "        x=''\n",
    "        for i in range(0,n):\n",
    "            x +=' '+text[j+i]\n",
    "        j += 1\n",
    "        grams.append(x)\n",
    "    print(grams)\n",
    "\n",
    "ngram(filter_sentence, 1)\n",
    "ngram(filter_sentence, 2)\n",
    "ngram(filter_sentence, 3)"
   ]
  },
  {
   "cell_type": "code",
   "execution_count": 8,
   "metadata": {},
   "outputs": [
    {
     "name": "stdout",
     "output_type": "stream",
     "text": [
      "('yatharth', 'awesome', 'study')\n",
      "('awesome', 'study', 'chandigarh')\n",
      "('study', 'chandigarh', 'unversity')\n"
     ]
    }
   ],
   "source": [
    "from nltk import ngrams\n",
    "n_grams = ngrams(filter_sentence, 3)\n",
    "for grams in n_grams:\n",
    "    print(grams)"
   ]
  },
  {
   "cell_type": "code",
   "execution_count": null,
   "metadata": {},
   "outputs": [],
   "source": []
  }
 ],
 "metadata": {
  "kernelspec": {
   "display_name": "Python 3 (ipykernel)",
   "language": "python",
   "name": "python3"
  },
  "language_info": {
   "codemirror_mode": {
    "name": "ipython",
    "version": 3
   },
   "file_extension": ".py",
   "mimetype": "text/x-python",
   "name": "python",
   "nbconvert_exporter": "python",
   "pygments_lexer": "ipython3",
   "version": "3.8.6"
  }
 },
 "nbformat": 4,
 "nbformat_minor": 2
}
