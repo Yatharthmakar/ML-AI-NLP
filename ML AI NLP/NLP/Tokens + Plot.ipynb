{
 "cells": [
  {
   "cell_type": "code",
   "execution_count": 4,
   "id": "a8ba9b70",
   "metadata": {},
   "outputs": [],
   "source": [
    "from nltk.corpus import stopwords\n",
    "from nltk.tokenize import word_tokenize"
   ]
  },
  {
   "cell_type": "code",
   "execution_count": 5,
   "id": "32301e83",
   "metadata": {},
   "outputs": [
    {
     "name": "stdout",
     "output_type": "stream",
     "text": [
      "['yatharth', 'awesome', 'study', 'chandigarh', 'unversity']\n"
     ]
    }
   ],
   "source": [
    "sentence = \"I am Yatharth! and i am awesome, I study in Chandigarh Unversity\"\n",
    "sentence = sentence.lower()\n",
    "stop_words = set(stopwords.words('english'))\n",
    "stop_words.add('!')\n",
    "stop_words.add(',')\n",
    "tokens = word_tokenize(sentence)\n",
    "filter_sentence = [w for w in tokens if w not in stop_words]\n",
    "print(filter_sentence)"
   ]
  },
  {
   "cell_type": "code",
   "execution_count": 8,
   "id": "85232ede",
   "metadata": {},
   "outputs": [],
   "source": [
    "import seaborn as sns\n",
    "from nltk import FreqDist\n",
    "def plot_freq(words, top_n=10):\n",
    "    word_freq = FreqDist(words)\n",
    "    labels = [element[0] for element in word_freq.most_common(top_n)]\n",
    "    counts = [element[1] for element in word_freq.most_common(top_n)]\n",
    "    plot = sns.barplot(x=labels, y=counts)\n",
    "    return plot"
   ]
  },
  {
   "cell_type": "code",
   "execution_count": 11,
   "id": "d2304051",
   "metadata": {},
   "outputs": [
    {
     "data": {
      "text/plain": [
       "<AxesSubplot:>"
      ]
     },
     "execution_count": 11,
     "metadata": {},
     "output_type": "execute_result"
    },
    {
     "data": {
      "image/png": "[encoded data removed]",
      "text/plain": [
       "<Figure size 432x288 with 1 Axes>"
      ]
     },
     "metadata": {
      "needs_background": "light"
     },
     "output_type": "display_data"
    }
   ],
   "source": [
    "plot_freq(tokens,6)"
   ]
  },
  {
   "cell_type": "code",
   "execution_count": 12,
   "id": "ae713e6b",
   "metadata": {},
   "outputs": [
    {
     "data": {
      "text/plain": [
       "<AxesSubplot:>"
      ]
     },
     "execution_count": 12,
     "metadata": {},
     "output_type": "execute_result"
    },
    {
     "data": {
      "image/png": "[encoded data removed]",
      "text/plain": [
       "<Figure size 432x288 with 1 Axes>"
      ]
     },
     "metadata": {
      "needs_background": "light"
     },
     "output_type": "display_data"
    }
   ],
   "source": [
    "plot_freq(filter_sentence,6)"
   ]
  },
  {
   "cell_type": "code",
   "execution_count": null,
   "id": "89399413",
   "metadata": {},
   "outputs": [],
   "source": []
  }
 ],
 "metadata": {
  "kernelspec": {
   "display_name": "Python 3 (ipykernel)",
   "language": "python",
   "name": "python3"
  },
  "language_info": {
   "codemirror_mode": {
    "name": "ipython",
    "version": 3
   },
   "file_extension": ".py",
   "mimetype": "text/x-python",
   "name": "python",
   "nbconvert_exporter": "python",
   "pygments_lexer": "ipython3",
   "version": "3.8.6"
  }
 },
 "nbformat": 4,
 "nbformat_minor": 5
}
