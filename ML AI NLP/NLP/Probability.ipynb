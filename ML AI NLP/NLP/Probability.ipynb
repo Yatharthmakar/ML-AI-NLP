{
 "cells": [
  {
   "cell_type": "code",
   "execution_count": 1,
   "id": "50f911bc",
   "metadata": {},
   "outputs": [
    {
     "name": "stdout",
     "output_type": "stream",
     "text": [
      "Probability of 'the': 0.10526315789473684\n",
      "Probability of 'cat': 0.07894736842105263\n",
      "Probability of 'mouse': 0.05263157894736842\n"
     ]
    }
   ],
   "source": [
    "import collections\n",
    "\n",
    "# Define the training data as a list of sentences\n",
    "training_data = [\n",
    "    \"The quick brown fox jumps over the lazy dog\",\n",
    "    \"The quick brown dog jumps over the lazy cat\",\n",
    "    \"The lazy cat jumps over the quick brown mouse\"\n",
    "]\n",
    "\n",
    "# Tokenize the training data into words\n",
    "words = []\n",
    "for sentence in training_data:\n",
    "    words += sentence.split()\n",
    "\n",
    "# Count the frequency of each word in the training data\n",
    "word_counts = collections.Counter(words)\n",
    "\n",
    "# Define the vocabulary size and the smoothing parameter\n",
    "vocab_size = len(word_counts)\n",
    "smoothing_param = 1\n",
    "\n",
    "# Compute the probability of each word using Laplace smoothing\n",
    "word_probabilities = {}\n",
    "for word, count in word_counts.items():\n",
    "    word_probabilities[word] = (count + smoothing_param) / (len(words) + smoothing_param * vocab_size)\n",
    "\n",
    "# Print the probability estimates for some example words\n",
    "print(\"Probability of 'the':\", word_probabilities['the'])\n",
    "print(\"Probability of 'cat':\", word_probabilities['cat'])\n",
    "print(\"Probability of 'mouse':\", word_probabilities['mouse'])"
   ]
  },
  {
   "cell_type": "code",
   "execution_count": 2,
   "id": "751b388e",
   "metadata": {},
   "outputs": [
    {
     "name": "stdout",
     "output_type": "stream",
     "text": [
      "Counter({'The': 3, 'quick': 3, 'brown': 3, 'jumps': 3, 'over': 3, 'the': 3, 'lazy': 3, 'dog': 2, 'cat': 2, 'fox': 1, 'mouse': 1})\n"
     ]
    }
   ],
   "source": [
    "print(word_counts)"
   ]
  },
  {
   "cell_type": "code",
   "execution_count": 3,
   "id": "f8574c42",
   "metadata": {},
   "outputs": [
    {
     "name": "stdout",
     "output_type": "stream",
     "text": [
      "<FreqDist with 11 samples and 27 outcomes>\n"
     ]
    }
   ],
   "source": [
    "from nltk import FreqDist\n",
    "print(FreqDist(words))"
   ]
  },
  {
   "cell_type": "code",
   "execution_count": null,
   "id": "d1e08b06",
   "metadata": {},
   "outputs": [],
   "source": []
  }
 ],
 "metadata": {
  "kernelspec": {
   "display_name": "Python 3 (ipykernel)",
   "language": "python",
   "name": "python3"
  },
  "language_info": {
   "codemirror_mode": {
    "name": "ipython",
    "version": 3
   },
   "file_extension": ".py",
   "mimetype": "text/x-python",
   "name": "python",
   "nbconvert_exporter": "python",
   "pygments_lexer": "ipython3",
   "version": "3.8.6"
  }
 },
 "nbformat": 4,
 "nbformat_minor": 5
}
