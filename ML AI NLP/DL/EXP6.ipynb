{
  "nbformat": 4,
  "nbformat_minor": 0,
  "metadata": {
    "colab": {
      "provenance": []
    },
    "kernelspec": {
      "name": "python3",
      "display_name": "Python 3"
    },
    "language_info": {
      "name": "python"
    }
  },
  "cells": [
    {
      "cell_type": "code",
      "source": [
        "import numpy as np\n",
        "import matplotlib.pyplot as plt\n",
        "from tensorflow import keras\n",
        "from tensorflow.keras.layers import Conv2D, Conv3D\n",
        "from tensorflow.keras.models import Sequential"
      ],
      "metadata": {
        "id": "0jctzJ7Qd8Bn"
      },
      "execution_count": null,
      "outputs": []
    },
    {
      "cell_type": "code",
      "source": [
        "# Create a sample grayscale image\n",
        "image = np.array([[1, 1, 1, 0, 0],\n",
        "                  [0, 1, 1, 1, 0],\n",
        "                  [0, 0, 1, 1, 1],\n",
        "                  [0, 0, 1, 1, 0],\n",
        "                  [0, 1, 1, 0, 0]], dtype=np.float32)"
      ],
      "metadata": {
        "id": "Xm6y5cxhe5zo"
      },
      "execution_count": null,
      "outputs": []
    },
    {
      "cell_type": "code",
      "source": [
        "# Define the vertical edge detector filter\n",
        "vertical_edge_filter = np.array([[1, 0, -1],\n",
        "                                  [1, 0, -1],\n",
        "                                  [1, 0, -1]], dtype=np.float32)\n",
        "\n",
        "identity_filter = np.array([[0, 0, 0],\n",
        "                             [0, 1, 0],\n",
        "                             [0, 0, 0]], dtype=np.float32)\n",
        "\n",
        "vertical_edge_filter = np.array([[-1, 0, 1],\n",
        "                                 [-2, 0, 2],\n",
        "                                 [-1, 0, 1]], dtype=np.float32)\n",
        "\n",
        "sobel_filter_x = np.array([[-1, 0, 1],\n",
        "                           [-2, 0, 2],\n",
        "                           [-1, 0, 1]], dtype=np.float32)\n",
        "\n",
        "sobel_filter_y = np.array([[-1, -2, -1],\n",
        "                           [0, 0, 0],\n",
        "                           [1, 2, 1]], dtype=np.float32)\n",
        "\n",
        "gaussian_filter = np.array([[1, 2, 1],\n",
        "                            [2, 4, 2],\n",
        "                            [1, 2, 1]], dtype=np.float32) / 16.0"
      ],
      "metadata": {
        "id": "_UxrvY2zd8wF"
      },
      "execution_count": null,
      "outputs": []
    },
    {
      "cell_type": "code",
      "source": [
        "# Add batch and channel dimensions to the image\n",
        "image = image.reshape(1, 5, 5, 1)"
      ],
      "metadata": {
        "id": "lo704ASve9cn"
      },
      "execution_count": null,
      "outputs": []
    },
    {
      "cell_type": "code",
      "source": [
        "# Create a Sequential model\n",
        "model = Sequential()"
      ],
      "metadata": {
        "id": "e4r1EbWNe_d3"
      },
      "execution_count": null,
      "outputs": []
    },
    {
      "cell_type": "code",
      "source": [
        "# Add a Conv2D layer with the vertical edge detector filter\n",
        "model.add(Conv2D(filters=1, kernel_size=(3, 3), input_shape=(5, 5, 1), padding='valid', use_bias=False, activation='relu'))"
      ],
      "metadata": {
        "id": "khmTk9JffIiB"
      },
      "execution_count": null,
      "outputs": []
    },
    {
      "cell_type": "code",
      "source": [
        "# Set the weights of the Conv2D layer to the vertical edge detector filter\n",
        "model.layers[0].set_weights([vertical_edge_filter.reshape(3, 3, 1, 1)])"
      ],
      "metadata": {
        "id": "-lwzkCOefKvu"
      },
      "execution_count": null,
      "outputs": []
    },
    {
      "cell_type": "code",
      "source": [
        "# Perform convolution on the image\n",
        "feature_map = model.predict(image)"
      ],
      "metadata": {
        "colab": {
          "base_uri": "https://localhost:8080/"
        },
        "id": "V9CMMDVLfMvz",
        "outputId": "63dc616a-0f63-4f81-d30b-9609c1f9657b"
      },
      "execution_count": null,
      "outputs": [
        {
          "output_type": "stream",
          "name": "stdout",
          "text": [
            "1/1 [==============================] - 0s 26ms/step\n"
          ]
        }
      ]
    },
    {
      "cell_type": "code",
      "source": [
        "# Plot the original image and the feature map\n",
        "plt.subplot(1, 2, 1)\n",
        "plt.imshow(image[0, :, :, 0], cmap='gray')\n",
        "plt.title('Original Image')"
      ],
      "metadata": {
        "colab": {
          "base_uri": "https://localhost:8080/",
          "height": 325
        },
        "id": "3zHJ4mDEfOlx",
        "outputId": "35704b66-6793-4b34-e241-2aba7dd11db5"
      },
      "execution_count": null,
      "outputs": [
        {
          "output_type": "execute_result",
          "data": {
            "text/plain": [
              "Text(0.5, 1.0, 'Original Image')"
            ]
          },
          "metadata": {},
          "execution_count": 48
        },
        {
          "output_type": "display_data",
          "data": {
            "text/plain": [
              "<Figure size 640x480 with 1 Axes>"
            ],
            "image/png": "[encoded data removed]"
          },
          "metadata": {}
        }
      ]
    },
    {
      "cell_type": "code",
      "source": [
        "plt.subplot(1, 2, 2)\n",
        "plt.imshow(feature_map[0, :, :, 0], cmap='gray')\n",
        "plt.title('Vertical Edge Detector Feature Map')\n",
        "plt.show()"
      ],
      "metadata": {
        "colab": {
          "base_uri": "https://localhost:8080/",
          "height": 308
        },
        "id": "LRsfQwUafQhS",
        "outputId": "5a68f370-506d-4c13-be02-c98caf60e7a8"
      },
      "execution_count": null,
      "outputs": [
        {
          "output_type": "display_data",
          "data": {
            "text/plain": [
              "<Figure size 640x480 with 1 Axes>"
            ],
            "image/png": "[encoded data removed]"
          },
          "metadata": {}
        }
      ]
    },
    {
      "cell_type": "code",
      "source": [],
      "metadata": {
        "id": "EutrujamrETj"
      },
      "execution_count": null,
      "outputs": []
    }
  ]
}