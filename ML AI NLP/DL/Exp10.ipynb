{
  "nbformat": 4,
  "nbformat_minor": 0,
  "metadata": {
    "colab": {
      "provenance": []
    },
    "kernelspec": {
      "name": "python3",
      "display_name": "Python 3"
    },
    "language_info": {
      "name": "python"
    }
  },
  "cells": [
    {
      "cell_type": "code",
      "execution_count": 1,
      "metadata": {
        "id": "xRijOUo6NT6_"
      },
      "outputs": [],
      "source": [
        "import numpy as np\n",
        "import tensorflow as tf\n",
        "from tensorflow.keras.preprocessing.text import Tokenizer\n",
        "from tensorflow.keras.preprocessing.sequence import pad_sequences\n",
        "from tensorflow.keras.models import Sequential\n",
        "from tensorflow.keras.layers import Embedding, LSTM, Dense"
      ]
    },
    {
      "cell_type": "code",
      "source": [
        "# Sample text data for training (replace with your own dataset)\n",
        "corpus = [\n",
        "    'This is a sample sentence.',\n",
        "    'Another example sentence.',\n",
        "    'Yet another sentence for the model.',\n",
        "    # Add more sentences as needed\n",
        "]"
      ],
      "metadata": {
        "id": "mo9jp3hBNcZF"
      },
      "execution_count": 2,
      "outputs": []
    },
    {
      "cell_type": "code",
      "source": [
        "# Tokenize the text data\n",
        "tokenizer = Tokenizer()\n",
        "tokenizer.fit_on_texts(corpus)\n",
        "total_words = len(tokenizer.word_index) + 1"
      ],
      "metadata": {
        "id": "9B_fa6dJNg8S"
      },
      "execution_count": 3,
      "outputs": []
    },
    {
      "cell_type": "code",
      "source": [
        "# Create input sequences and labels\n",
        "input_sequences = []\n",
        "for line in corpus:\n",
        "    token_list = tokenizer.texts_to_sequences([line])[0]\n",
        "    for i in range(1, len(token_list)):\n",
        "        n_gram_sequence = token_list[:i+1]\n",
        "        input_sequences.append(n_gram_sequence)"
      ],
      "metadata": {
        "id": "Wjv1tQGgNk7Q"
      },
      "execution_count": 4,
      "outputs": []
    },
    {
      "cell_type": "code",
      "source": [
        "max_sequence_length = max([len(x) for x in input_sequences])\n",
        "input_sequences = pad_sequences(input_sequences, maxlen=max_sequence_length, padding='pre')"
      ],
      "metadata": {
        "id": "HYqalq-JNows"
      },
      "execution_count": 5,
      "outputs": []
    },
    {
      "cell_type": "code",
      "source": [
        "X, y = input_sequences[:, :-1], input_sequences[:, -1]\n",
        "y = tf.keras.utils.to_categorical(y, num_classes=total_words)"
      ],
      "metadata": {
        "id": "Lfeu7MEtNqzu"
      },
      "execution_count": 6,
      "outputs": []
    },
    {
      "cell_type": "code",
      "source": [
        "# Build the LSTM model\n",
        "model = Sequential()\n",
        "model.add(Embedding(total_words, 100, input_length=max_sequence_length-1))\n",
        "model.add(LSTM(100))\n",
        "model.add(Dense(total_words, activation='softmax'))"
      ],
      "metadata": {
        "id": "ostDBocZNtTv"
      },
      "execution_count": 7,
      "outputs": []
    },
    {
      "cell_type": "code",
      "source": [
        "# Compile the model\n",
        "model.compile(optimizer='adam', loss='categorical_crossentropy', metrics=['accuracy'])"
      ],
      "metadata": {
        "id": "GCvaNPchNvWd"
      },
      "execution_count": 8,
      "outputs": []
    },
    {
      "cell_type": "code",
      "source": [
        "# Train the model\n",
        "model.fit(X, y, epochs=100, verbose=1)"
      ],
      "metadata": {
        "colab": {
          "base_uri": "https://localhost:8080/"
        },
        "id": "MXVx6sB6NxUj",
        "outputId": "206a2fae-828a-408b-d093-1e275aaaf1e3"
      },
      "execution_count": 9,
      "outputs": [
        {
          "output_type": "stream",
          "name": "stdout",
          "text": [
            "Epoch 1/100\n",
            "1/1 [==============================] - 3s 3s/step - loss: 2.4878 - accuracy: 0.0909\n",
            "Epoch 2/100\n",
            "1/1 [==============================] - 0s 16ms/step - loss: 2.4778 - accuracy: 0.1818\n",
            "Epoch 3/100\n",
            "1/1 [==============================] - 0s 19ms/step - loss: 2.4679 - accuracy: 0.2727\n",
            "Epoch 4/100\n",
            "1/1 [==============================] - 0s 18ms/step - loss: 2.4580 - accuracy: 0.4545\n",
            "Epoch 5/100\n",
            "1/1 [==============================] - 0s 17ms/step - loss: 2.4478 - accuracy: 0.4545\n",
            "Epoch 6/100\n",
            "1/1 [==============================] - 0s 18ms/step - loss: 2.4374 - accuracy: 0.3636\n",
            "Epoch 7/100\n",
            "1/1 [==============================] - 0s 16ms/step - loss: 2.4264 - accuracy: 0.3636\n",
            "Epoch 8/100\n",
            "1/1 [==============================] - 0s 17ms/step - loss: 2.4149 - accuracy: 0.4545\n",
            "Epoch 9/100\n",
            "1/1 [==============================] - 0s 16ms/step - loss: 2.4025 - accuracy: 0.4545\n",
            "Epoch 10/100\n",
            "1/1 [==============================] - 0s 17ms/step - loss: 2.3892 - accuracy: 0.3636\n",
            "Epoch 11/100\n",
            "1/1 [==============================] - 0s 15ms/step - loss: 2.3747 - accuracy: 0.2727\n",
            "Epoch 12/100\n",
            "1/1 [==============================] - 0s 18ms/step - loss: 2.3590 - accuracy: 0.2727\n",
            "Epoch 13/100\n",
            "1/1 [==============================] - 0s 16ms/step - loss: 2.3417 - accuracy: 0.2727\n",
            "Epoch 14/100\n",
            "1/1 [==============================] - 0s 16ms/step - loss: 2.3228 - accuracy: 0.2727\n",
            "Epoch 15/100\n",
            "1/1 [==============================] - 0s 19ms/step - loss: 2.3020 - accuracy: 0.2727\n",
            "Epoch 16/100\n",
            "1/1 [==============================] - 0s 19ms/step - loss: 2.2790 - accuracy: 0.2727\n",
            "Epoch 17/100\n",
            "1/1 [==============================] - 0s 16ms/step - loss: 2.2539 - accuracy: 0.2727\n",
            "Epoch 18/100\n",
            "1/1 [==============================] - 0s 16ms/step - loss: 2.2266 - accuracy: 0.2727\n",
            "Epoch 19/100\n",
            "1/1 [==============================] - 0s 17ms/step - loss: 2.1971 - accuracy: 0.2727\n",
            "Epoch 20/100\n",
            "1/1 [==============================] - 0s 16ms/step - loss: 2.1660 - accuracy: 0.2727\n",
            "Epoch 21/100\n",
            "1/1 [==============================] - 0s 19ms/step - loss: 2.1341 - accuracy: 0.2727\n",
            "Epoch 22/100\n",
            "1/1 [==============================] - 0s 17ms/step - loss: 2.1028 - accuracy: 0.2727\n",
            "Epoch 23/100\n",
            "1/1 [==============================] - 0s 18ms/step - loss: 2.0743 - accuracy: 0.2727\n",
            "Epoch 24/100\n",
            "1/1 [==============================] - 0s 16ms/step - loss: 2.0507 - accuracy: 0.2727\n",
            "Epoch 25/100\n",
            "1/1 [==============================] - 0s 18ms/step - loss: 2.0324 - accuracy: 0.2727\n",
            "Epoch 26/100\n",
            "1/1 [==============================] - 0s 19ms/step - loss: 2.0162 - accuracy: 0.2727\n",
            "Epoch 27/100\n",
            "1/1 [==============================] - 0s 20ms/step - loss: 1.9969 - accuracy: 0.2727\n",
            "Epoch 28/100\n",
            "1/1 [==============================] - 0s 14ms/step - loss: 1.9715 - accuracy: 0.2727\n",
            "Epoch 29/100\n",
            "1/1 [==============================] - 0s 17ms/step - loss: 1.9409 - accuracy: 0.2727\n",
            "Epoch 30/100\n",
            "1/1 [==============================] - 0s 15ms/step - loss: 1.9075 - accuracy: 0.2727\n",
            "Epoch 31/100\n",
            "1/1 [==============================] - 0s 15ms/step - loss: 1.8741 - accuracy: 0.2727\n",
            "Epoch 32/100\n",
            "1/1 [==============================] - 0s 17ms/step - loss: 1.8420 - accuracy: 0.2727\n",
            "Epoch 33/100\n",
            "1/1 [==============================] - 0s 15ms/step - loss: 1.8112 - accuracy: 0.3636\n",
            "Epoch 34/100\n",
            "1/1 [==============================] - 0s 18ms/step - loss: 1.7808 - accuracy: 0.3636\n",
            "Epoch 35/100\n",
            "1/1 [==============================] - 0s 15ms/step - loss: 1.7498 - accuracy: 0.3636\n",
            "Epoch 36/100\n",
            "1/1 [==============================] - 0s 17ms/step - loss: 1.7172 - accuracy: 0.3636\n",
            "Epoch 37/100\n",
            "1/1 [==============================] - 0s 16ms/step - loss: 1.6822 - accuracy: 0.3636\n",
            "Epoch 38/100\n",
            "1/1 [==============================] - 0s 27ms/step - loss: 1.6448 - accuracy: 0.3636\n",
            "Epoch 39/100\n",
            "1/1 [==============================] - 0s 21ms/step - loss: 1.6050 - accuracy: 0.4545\n",
            "Epoch 40/100\n",
            "1/1 [==============================] - 0s 36ms/step - loss: 1.5631 - accuracy: 0.4545\n",
            "Epoch 41/100\n",
            "1/1 [==============================] - 0s 32ms/step - loss: 1.5196 - accuracy: 0.4545\n",
            "Epoch 42/100\n",
            "1/1 [==============================] - 0s 23ms/step - loss: 1.4746 - accuracy: 0.4545\n",
            "Epoch 43/100\n",
            "1/1 [==============================] - 0s 16ms/step - loss: 1.4280 - accuracy: 0.4545\n",
            "Epoch 44/100\n",
            "1/1 [==============================] - 0s 15ms/step - loss: 1.3797 - accuracy: 0.4545\n",
            "Epoch 45/100\n",
            "1/1 [==============================] - 0s 17ms/step - loss: 1.3296 - accuracy: 0.4545\n",
            "Epoch 46/100\n",
            "1/1 [==============================] - 0s 20ms/step - loss: 1.2781 - accuracy: 0.5455\n",
            "Epoch 47/100\n",
            "1/1 [==============================] - 0s 16ms/step - loss: 1.2259 - accuracy: 0.6364\n",
            "Epoch 48/100\n",
            "1/1 [==============================] - 0s 18ms/step - loss: 1.1731 - accuracy: 0.7273\n",
            "Epoch 49/100\n",
            "1/1 [==============================] - 0s 14ms/step - loss: 1.1192 - accuracy: 0.8182\n",
            "Epoch 50/100\n",
            "1/1 [==============================] - 0s 15ms/step - loss: 1.0637 - accuracy: 0.9091\n",
            "Epoch 51/100\n",
            "1/1 [==============================] - 0s 16ms/step - loss: 1.0077 - accuracy: 0.9091\n",
            "Epoch 52/100\n",
            "1/1 [==============================] - 0s 19ms/step - loss: 0.9526 - accuracy: 0.9091\n",
            "Epoch 53/100\n",
            "1/1 [==============================] - 0s 17ms/step - loss: 0.8992 - accuracy: 0.9091\n",
            "Epoch 54/100\n",
            "1/1 [==============================] - 0s 15ms/step - loss: 0.8470 - accuracy: 0.9091\n",
            "Epoch 55/100\n",
            "1/1 [==============================] - 0s 15ms/step - loss: 0.7960 - accuracy: 1.0000\n",
            "Epoch 56/100\n",
            "1/1 [==============================] - 0s 17ms/step - loss: 0.7478 - accuracy: 1.0000\n",
            "Epoch 57/100\n",
            "1/1 [==============================] - 0s 15ms/step - loss: 0.7027 - accuracy: 1.0000\n",
            "Epoch 58/100\n",
            "1/1 [==============================] - 0s 17ms/step - loss: 0.6599 - accuracy: 1.0000\n",
            "Epoch 59/100\n",
            "1/1 [==============================] - 0s 16ms/step - loss: 0.6196 - accuracy: 1.0000\n",
            "Epoch 60/100\n",
            "1/1 [==============================] - 0s 17ms/step - loss: 0.5822 - accuracy: 1.0000\n",
            "Epoch 61/100\n",
            "1/1 [==============================] - 0s 15ms/step - loss: 0.5462 - accuracy: 1.0000\n",
            "Epoch 62/100\n",
            "1/1 [==============================] - 0s 24ms/step - loss: 0.5116 - accuracy: 1.0000\n",
            "Epoch 63/100\n",
            "1/1 [==============================] - 0s 16ms/step - loss: 0.4791 - accuracy: 1.0000\n",
            "Epoch 64/100\n",
            "1/1 [==============================] - 0s 15ms/step - loss: 0.4479 - accuracy: 1.0000\n",
            "Epoch 65/100\n",
            "1/1 [==============================] - 0s 15ms/step - loss: 0.4185 - accuracy: 1.0000\n",
            "Epoch 66/100\n",
            "1/1 [==============================] - 0s 19ms/step - loss: 0.3913 - accuracy: 1.0000\n",
            "Epoch 67/100\n",
            "1/1 [==============================] - 0s 20ms/step - loss: 0.3656 - accuracy: 1.0000\n",
            "Epoch 68/100\n",
            "1/1 [==============================] - 0s 16ms/step - loss: 0.3416 - accuracy: 1.0000\n",
            "Epoch 69/100\n",
            "1/1 [==============================] - 0s 18ms/step - loss: 0.3196 - accuracy: 1.0000\n",
            "Epoch 70/100\n",
            "1/1 [==============================] - 0s 16ms/step - loss: 0.2993 - accuracy: 1.0000\n",
            "Epoch 71/100\n",
            "1/1 [==============================] - 0s 18ms/step - loss: 0.2807 - accuracy: 1.0000\n",
            "Epoch 72/100\n",
            "1/1 [==============================] - 0s 16ms/step - loss: 0.2634 - accuracy: 1.0000\n",
            "Epoch 73/100\n",
            "1/1 [==============================] - 0s 17ms/step - loss: 0.2469 - accuracy: 1.0000\n",
            "Epoch 74/100\n",
            "1/1 [==============================] - 0s 15ms/step - loss: 0.2314 - accuracy: 1.0000\n",
            "Epoch 75/100\n",
            "1/1 [==============================] - 0s 15ms/step - loss: 0.2167 - accuracy: 1.0000\n",
            "Epoch 76/100\n",
            "1/1 [==============================] - 0s 20ms/step - loss: 0.2030 - accuracy: 1.0000\n",
            "Epoch 77/100\n",
            "1/1 [==============================] - 0s 16ms/step - loss: 0.1904 - accuracy: 1.0000\n",
            "Epoch 78/100\n",
            "1/1 [==============================] - 0s 19ms/step - loss: 0.1786 - accuracy: 1.0000\n",
            "Epoch 79/100\n",
            "1/1 [==============================] - 0s 15ms/step - loss: 0.1679 - accuracy: 1.0000\n",
            "Epoch 80/100\n",
            "1/1 [==============================] - 0s 17ms/step - loss: 0.1579 - accuracy: 1.0000\n",
            "Epoch 81/100\n",
            "1/1 [==============================] - 0s 16ms/step - loss: 0.1485 - accuracy: 1.0000\n",
            "Epoch 82/100\n",
            "1/1 [==============================] - 0s 16ms/step - loss: 0.1399 - accuracy: 1.0000\n",
            "Epoch 83/100\n",
            "1/1 [==============================] - 0s 18ms/step - loss: 0.1318 - accuracy: 1.0000\n",
            "Epoch 84/100\n",
            "1/1 [==============================] - 0s 14ms/step - loss: 0.1241 - accuracy: 1.0000\n",
            "Epoch 85/100\n",
            "1/1 [==============================] - 0s 18ms/step - loss: 0.1169 - accuracy: 1.0000\n",
            "Epoch 86/100\n",
            "1/1 [==============================] - 0s 17ms/step - loss: 0.1102 - accuracy: 1.0000\n",
            "Epoch 87/100\n",
            "1/1 [==============================] - 0s 22ms/step - loss: 0.1040 - accuracy: 1.0000\n",
            "Epoch 88/100\n",
            "1/1 [==============================] - 0s 19ms/step - loss: 0.0982 - accuracy: 1.0000\n",
            "Epoch 89/100\n",
            "1/1 [==============================] - 0s 16ms/step - loss: 0.0928 - accuracy: 1.0000\n",
            "Epoch 90/100\n",
            "1/1 [==============================] - 0s 18ms/step - loss: 0.0878 - accuracy: 1.0000\n",
            "Epoch 91/100\n",
            "1/1 [==============================] - 0s 15ms/step - loss: 0.0832 - accuracy: 1.0000\n",
            "Epoch 92/100\n",
            "1/1 [==============================] - 0s 15ms/step - loss: 0.0788 - accuracy: 1.0000\n",
            "Epoch 93/100\n",
            "1/1 [==============================] - 0s 15ms/step - loss: 0.0747 - accuracy: 1.0000\n",
            "Epoch 94/100\n",
            "1/1 [==============================] - 0s 15ms/step - loss: 0.0709 - accuracy: 1.0000\n",
            "Epoch 95/100\n",
            "1/1 [==============================] - 0s 18ms/step - loss: 0.0674 - accuracy: 1.0000\n",
            "Epoch 96/100\n",
            "1/1 [==============================] - 0s 18ms/step - loss: 0.0640 - accuracy: 1.0000\n",
            "Epoch 97/100\n",
            "1/1 [==============================] - 0s 21ms/step - loss: 0.0609 - accuracy: 1.0000\n",
            "Epoch 98/100\n",
            "1/1 [==============================] - 0s 16ms/step - loss: 0.0580 - accuracy: 1.0000\n",
            "Epoch 99/100\n",
            "1/1 [==============================] - 0s 15ms/step - loss: 0.0553 - accuracy: 1.0000\n",
            "Epoch 100/100\n",
            "1/1 [==============================] - 0s 15ms/step - loss: 0.0528 - accuracy: 1.0000\n"
          ]
        },
        {
          "output_type": "execute_result",
          "data": {
            "text/plain": [
              "<keras.src.callbacks.History at 0x7eee94374e50>"
            ]
          },
          "metadata": {},
          "execution_count": 9
        }
      ]
    },
    {
      "cell_type": "code",
      "source": [
        "# Function to generate the next word\n",
        "def generate_next_word(seed_text, model, tokenizer, max_sequence_length):\n",
        "    for _ in range(3):  # Adjust the number of words to generate\n",
        "        token_list = tokenizer.texts_to_sequences([seed_text])[0]\n",
        "        token_list = pad_sequences([token_list], maxlen=max_sequence_length-1, padding='pre')\n",
        "        predicted = np.argmax(model.predict(token_list), axis=-1)\n",
        "        output_word = \"\"\n",
        "        for word, index in tokenizer.word_index.items():\n",
        "            if index == predicted:\n",
        "                output_word = word\n",
        "                break\n",
        "        seed_text += \" \" + output_word\n",
        "    return seed_text"
      ],
      "metadata": {
        "id": "q7q0IimUNzgf"
      },
      "execution_count": 10,
      "outputs": []
    },
    {
      "cell_type": "code",
      "source": [
        "# Test the model\n",
        "seed_text = \"This is a\"\n",
        "generated_text = generate_next_word(seed_text, model, tokenizer, max_sequence_length)\n",
        "print(generated_text)"
      ],
      "metadata": {
        "colab": {
          "base_uri": "https://localhost:8080/"
        },
        "id": "cw-IfORoN3wC",
        "outputId": "2e9f904e-1105-46e0-d18e-f2636dc524b5"
      },
      "execution_count": 11,
      "outputs": [
        {
          "output_type": "stream",
          "name": "stdout",
          "text": [
            "1/1 [==============================] - 1s 864ms/step\n",
            "1/1 [==============================] - 0s 34ms/step\n",
            "1/1 [==============================] - 0s 32ms/step\n",
            "This is a sample sentence sentence\n"
          ]
        }
      ]
    },
    {
      "cell_type": "code",
      "source": [],
      "metadata": {
        "id": "P2iggLRYN4QO"
      },
      "execution_count": null,
      "outputs": []
    }
  ]
}