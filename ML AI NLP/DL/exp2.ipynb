{
  "nbformat": 4,
  "nbformat_minor": 0,
  "metadata": {
    "colab": {
      "provenance": []
    },
    "kernelspec": {
      "name": "python3",
      "display_name": "Python 3"
    },
    "language_info": {
      "name": "python"
    }
  },
  "cells": [
    {
      "cell_type": "code",
      "source": [
        "import numpy as np\n",
        "\n",
        "def sigmoid(x):\n",
        "    return 1 / (1 + np.exp(-x))\n",
        "\n",
        "def sigmoid_derivative(x):\n",
        "    return x * (1 - x)"
      ],
      "metadata": {
        "id": "RicmeBylz97j"
      },
      "execution_count": null,
      "outputs": []
    },
    {
      "cell_type": "code",
      "source": [
        "def forward_propagation(X, weights_input_hidden, bias_hidden, weights_hidden_output, bias_output):\n",
        "    hidden_input = np.dot(X, weights_input_hidden) + bias_hidden\n",
        "    hidden_output = sigmoid(hidden_input)\n",
        "\n",
        "    output_input = np.dot(hidden_output, weights_hidden_output) + bias_output\n",
        "    predicted_output = sigmoid(output_input)\n",
        "\n",
        "    return hidden_output, predicted_output"
      ],
      "metadata": {
        "id": "F23-Y4CV1r2N"
      },
      "execution_count": null,
      "outputs": []
    },
    {
      "cell_type": "code",
      "source": [
        "def backpropagation(X, y, hidden_output, predicted_output, weights_hidden_output, bias_output, weights_input_hidden, bias_hidden):\n",
        "    output_error = y - predicted_output\n",
        "    output_delta = output_error * sigmoid_derivative(predicted_output)\n",
        "\n",
        "    hidden_error = output_delta.dot(weights_hidden_output.T)\n",
        "    hidden_delta = hidden_error * sigmoid_derivative(hidden_output)\n",
        "\n",
        "    weights_hidden_output += hidden_output.T.dot(output_delta)\n",
        "    bias_output += np.sum(output_delta, axis=0, keepdims=True)\n",
        "    weights_input_hidden += X.T.dot(hidden_delta)\n",
        "    bias_hidden += np.sum(hidden_delta, axis=0, keepdims=True)"
      ],
      "metadata": {
        "id": "X9ZktP0W1t-O"
      },
      "execution_count": null,
      "outputs": []
    },
    {
      "cell_type": "code",
      "source": [
        "input_size = 2\n",
        "hidden_size = 2\n",
        "output_size = 1\n",
        "\n",
        "np.random.seed(42)\n",
        "weights_input_hidden = np.random.uniform(size=(input_size, hidden_size))\n",
        "bias_hidden = np.random.uniform(size=(1, hidden_size))\n",
        "weights_hidden_output = np.random.uniform(size=(hidden_size, output_size))\n",
        "bias_output = np.random.uniform(size=(1, output_size))"
      ],
      "metadata": {
        "id": "quErN3Lu0B5y"
      },
      "execution_count": null,
      "outputs": []
    },
    {
      "cell_type": "code",
      "source": [
        "# Training Data\n",
        "X = np.array([[0, 0], [0, 1], [1, 0], [1, 1]])\n",
        "y = np.array([[0], [1], [1], [0]])\n",
        "\n",
        "epochs = 10000\n",
        "learning_rate = 0.1\n",
        "\n",
        "for epoch in range(epochs):\n",
        "    hidden_output, predicted_output = forward_propagation(X, weights_input_hidden, bias_hidden, weights_hidden_output, bias_output)\n",
        "    backpropagation(X, y, hidden_output, predicted_output, weights_hidden_output, bias_output, weights_input_hidden, bias_hidden)"
      ],
      "metadata": {
        "id": "CsJ5Zoor0IEG"
      },
      "execution_count": null,
      "outputs": []
    },
    {
      "cell_type": "code",
      "source": [
        "# Testing\n",
        "test_data = np.array([[0, 0], [0, 1], [1, 0], [1, 1]])\n",
        "_, predictions = forward_propagation(test_data, weights_input_hidden, bias_hidden, weights_hidden_output, bias_output)\n",
        "print(\"Predictions:\", predictions)"
      ],
      "metadata": {
        "colab": {
          "base_uri": "https://localhost:8080/"
        },
        "id": "q3ZujhEF0KC-",
        "outputId": "ae26ab3c-b298-426b-9a10-ec94f8a765cc"
      },
      "execution_count": null,
      "outputs": [
        {
          "output_type": "stream",
          "name": "stdout",
          "text": [
            "Predictions: [[0.01294025]\n",
            " [0.98895441]\n",
            " [0.98894343]\n",
            " [0.01136186]]\n"
          ]
        }
      ]
    },
    {
      "cell_type": "code",
      "source": [],
      "metadata": {
        "id": "4z7BSwst2KpZ"
      },
      "execution_count": null,
      "outputs": []
    }
  ]
}