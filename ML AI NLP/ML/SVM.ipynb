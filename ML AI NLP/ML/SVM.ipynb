{
 "cells": [
  {
   "cell_type": "code",
   "execution_count": 10,
   "id": "defba134",
   "metadata": {},
   "outputs": [
    {
     "name": "stdout",
     "output_type": "stream",
     "text": [
      "Train prediction:  0.9583333333333334\n",
      "Test prediction:   1.0\n",
      "['Iris-virginica' 'Iris-versicolor' 'Iris-setosa' 'Iris-virginica'\n",
      " 'Iris-setosa' 'Iris-virginica' 'Iris-setosa' 'Iris-versicolor'\n",
      " 'Iris-versicolor' 'Iris-versicolor' 'Iris-virginica' 'Iris-versicolor'\n",
      " 'Iris-versicolor' 'Iris-versicolor' 'Iris-versicolor' 'Iris-setosa'\n",
      " 'Iris-versicolor' 'Iris-versicolor' 'Iris-setosa' 'Iris-setosa'\n",
      " 'Iris-virginica' 'Iris-versicolor' 'Iris-setosa' 'Iris-setosa'\n",
      " 'Iris-virginica' 'Iris-setosa' 'Iris-setosa' 'Iris-versicolor'\n",
      " 'Iris-versicolor' 'Iris-setosa']\n"
     ]
    }
   ],
   "source": [
    "import pandas as pd\n",
    "import matplotlib.pyplot as plt\n",
    "from sklearn.preprocessing import StandardScaler\n",
    "\n",
    "url = \"https://archive.ics.uci.edu/ml/machine-learning-databases/iris/iris.data\"\n",
    "df = pd.read_csv(url, names=['sepal length','sepal width','petal length','petal width','target'])\n",
    "\n",
    "feature = ['sepal length', 'sepal width', 'petal length', 'petal width']\n",
    "\n",
    "x = df.loc[:,feature]\n",
    "\n",
    "y = df.loc[:,'target']\n",
    "\n",
    "\n",
    "x = StandardScaler().fit_transform(x)\n",
    "from sklearn.model_selection import train_test_split\n",
    "TrainingData,TestData,TrainingTarget,TestTarget = train_test_split (x, y, test_size=0.20, random_state=0)\n",
    "from sklearn import svm\n",
    "SVMModel = svm.SVC(kernel='linear') \n",
    "SVMModel.fit(TrainingData,TrainingTarget)\n",
    "ResulstSVM = SVMModel.predict(TestData)\n",
    "print(ResulstSVM)\n",
    "\n",
    "\n",
    "from sklearn.metrics import accuracy_score, confusion_matrix\n",
    "test_predict = SVMModel.predict(TestData)\n",
    "train_predict = SVMModel.predict(TrainingData)\n",
    "\n",
    "print(\"Train prediction: \", accuracy_score(train_predict,TrainingTarget))\n",
    "print(\"Test prediction:  \", accuracy_score(test_predict,TestTarget))\n",
    "\n",
    "import seaborn as sns\n",
    "cm = confusion_matrix(TestTarget, test_predict)\n",
    "sns.heatmap(cm, annot = True)\n",
    "\n"
   ]
  },
  {
   "cell_type": "code",
   "execution_count": null,
   "id": "bfca991a",
   "metadata": {},
   "outputs": [],
   "source": []
  }
 ],
 "metadata": {
  "kernelspec": {
   "display_name": "Python 3 (ipykernel)",
   "language": "python",
   "name": "python3"
  },
  "language_info": {
   "codemirror_mode": {
    "name": "ipython",
    "version": 3
   },
   "file_extension": ".py",
   "mimetype": "text/x-python",
   "name": "python",
   "nbconvert_exporter": "python",
   "pygments_lexer": "ipython3",
   "version": "3.8.6"
  }
 },
 "nbformat": 4,
 "nbformat_minor": 5
}
