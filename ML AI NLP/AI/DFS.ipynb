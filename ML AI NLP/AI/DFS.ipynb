{
 "cells": [
  {
   "cell_type": "code",
   "execution_count": 1,
   "id": "4b302325",
   "metadata": {},
   "outputs": [],
   "source": [
    "graph = {\n",
    "    8 : [9, 7, 11],\n",
    "    9 : [6, 5],\n",
    "    7 : [3],\n",
    "    11 : [2, 1],\n",
    "    6 : [],\n",
    "    5 : [],\n",
    "    3 : [],\n",
    "    2 : [],\n",
    "    1 : []\n",
    "}"
   ]
  },
  {
   "cell_type": "code",
   "execution_count": 8,
   "id": "09129ea5",
   "metadata": {},
   "outputs": [],
   "source": [
    "def dfs(visited, graph, node):\n",
    "    if node not in visited:\n",
    "        print(node, end = ' ')\n",
    "        visited.add(node)\n",
    "        for i in graph[node]:\n",
    "            dfs(visited, graph, i)"
   ]
  },
  {
   "cell_type": "code",
   "execution_count": 10,
   "id": "aeaf43a6",
   "metadata": {},
   "outputs": [
    {
     "name": "stdout",
     "output_type": "stream",
     "text": [
      "8 9 6 5 7 3 11 2 1 "
     ]
    }
   ],
   "source": [
    "visited = set()\n",
    "dfs(visited, graph, 8)"
   ]
  },
  {
   "cell_type": "code",
   "execution_count": 13,
   "id": "e88420cf",
   "metadata": {},
   "outputs": [],
   "source": [
    "def sdfs(node):\n",
    "    stack.append(node)\n",
    "    while stack:\n",
    "        x = stack.pop()\n",
    "        if x not in visited:\n",
    "            visited.append(x)\n",
    "            for i in graph[x]:\n",
    "                stack.append(i)"
   ]
  },
  {
   "cell_type": "code",
   "execution_count": 14,
   "id": "c235daad",
   "metadata": {},
   "outputs": [
    {
     "name": "stdout",
     "output_type": "stream",
     "text": [
      "[8, 11, 1, 2, 7, 3, 9, 5, 6]\n"
     ]
    }
   ],
   "source": [
    "visited = []\n",
    "stack = []\n",
    "sdfs(8)\n",
    "print(visited)"
   ]
  },
  {
   "cell_type": "code",
   "execution_count": null,
   "id": "5b2ba85f",
   "metadata": {},
   "outputs": [],
   "source": []
  }
 ],
 "metadata": {
  "kernelspec": {
   "display_name": "Python 3 (ipykernel)",
   "language": "python",
   "name": "python3"
  },
  "language_info": {
   "codemirror_mode": {
    "name": "ipython",
    "version": 3
   },
   "file_extension": ".py",
   "mimetype": "text/x-python",
   "name": "python",
   "nbconvert_exporter": "python",
   "pygments_lexer": "ipython3",
   "version": "3.8.6"
  }
 },
 "nbformat": 4,
 "nbformat_minor": 5
}
