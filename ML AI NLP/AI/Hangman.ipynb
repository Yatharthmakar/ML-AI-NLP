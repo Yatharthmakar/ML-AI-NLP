{
 "cells": [
  {
   "cell_type": "code",
   "execution_count": null,
   "id": "f0a9cb50",
   "metadata": {},
   "outputs": [
    {
     "name": "stdout",
     "output_type": "stream",
     "text": [
      "Word:  P _ _ _ _ _ _ _ \n"
     ]
    }
   ],
   "source": [
    "from IPython.display import clear_output\n",
    "import random\n",
    "words = [\"honey\", \"robot\", \"laptop\", \"beekeeper\", \"proteins\", \"glucose\", \"carbohydrate\"]\n",
    "life = 5\n",
    "word = list(random.choice(words))\n",
    "dis_word = []\n",
    "\n",
    "def ltos(word_list):\n",
    "    str1 = \"\" \n",
    "    return (str1.join(word_list).capitalize())\n",
    "\n",
    "for x in range(len(word)):\n",
    "    dis_word.append(\"_ \")\n",
    "    \n",
    "print(\"Word: \",ltos(dis_word))\n",
    "print(word)\n",
    "\n",
    "count=0\n",
    "while(life>0 and count<len(word)):\n",
    "    guess = input(\"Guess a letter: \").lower()\n",
    "    clear_output(wait=True)\n",
    "    if guess+\" \" in dis_word:\n",
    "        print(\"Already Guessed!!!!\",guess)\n",
    "    else:\n",
    "        if guess in word:\n",
    "            for x in range(len(word)):\n",
    "                if guess == word[x]:\n",
    "                    dis_word[x] = guess+\" \"\n",
    "                    count+=1\n",
    "\n",
    "            print(\"Word: \",ltos(dis_word))\n",
    "        else:\n",
    "            life-=1\n",
    "            print(\"Word: \",ltos(dis_word))\n",
    "            print(\"Life left = \",life)\n",
    "\n",
    "if(count==len(word)):\n",
    "    print(\"Conguralations!!!!\")\n",
    "else:\n",
    "    print(\"GAME OVER!!!!!\")"
   ]
  },
  {
   "cell_type": "code",
   "execution_count": null,
   "id": "54a02e3c",
   "metadata": {},
   "outputs": [],
   "source": []
  }
 ],
 "metadata": {
  "kernelspec": {
   "display_name": "Python 3 (ipykernel)",
   "language": "python",
   "name": "python3"
  },
  "language_info": {
   "codemirror_mode": {
    "name": "ipython",
    "version": 3
   },
   "file_extension": ".py",
   "mimetype": "text/x-python",
   "name": "python",
   "nbconvert_exporter": "python",
   "pygments_lexer": "ipython3",
   "version": "3.8.6"
  }
 },
 "nbformat": 4,
 "nbformat_minor": 5
}
