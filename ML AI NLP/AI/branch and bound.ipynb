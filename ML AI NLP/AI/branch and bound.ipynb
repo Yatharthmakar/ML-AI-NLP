{
 "cells": [
  {
   "cell_type": "code",
   "execution_count": 1,
   "metadata": {},
   "outputs": [
    {
     "name": "stdout",
     "output_type": "stream",
     "text": [
      "The cost of most efficient tour = 80\n"
     ]
    }
   ],
   "source": [
    "n = 4  \n",
    "dist = [[0, 0, 0, 0, 0], [0, 0, 10, 15, 20], [\n",
    "    0, 10, 0, 25, 25], [0, 15, 25, 0, 30], [0, 20, 25, 30, 0]]\n",
    "memo = [[-1]*(1 << (n+1)) for _ in range(n+1)]\n",
    "def fun(i, mask):\n",
    " \n",
    "    if mask == ((1 << i) | 3):\n",
    "        return dist[1][i]\n",
    " \n",
    "    if memo[i][mask] != -1:\n",
    "        return memo[i][mask]\n",
    " \n",
    "    res = 10**9 \n",
    "    for j in range(1, n+1):\n",
    "        if (mask & (1 << j)) != 0 and j != i and j != 1:\n",
    "            res = min(res, fun(j, mask & (~(1 << i))) + dist[j][i])\n",
    "    memo[i][mask] = res  # storing the minimum value\n",
    "    return res\n",
    " \n",
    " \n",
    "# Driver program to test above logic\n",
    "ans = 10**9\n",
    "for i in range(1, n+1):\n",
    "    # try to go from node 1 visiting all nodes in between to i\n",
    "    # then return from i taking the shortest route to 1\n",
    "    ans = min(ans, fun(i, (1 << (n+1))-1) + dist[i][1])\n",
    " \n",
    "print(\"The cost of most efficient tour = \" + str(ans))"
   ]
  },
  {
   "cell_type": "code",
   "execution_count": null,
   "metadata": {},
   "outputs": [],
   "source": []
  }
 ],
 "metadata": {
  "kernelspec": {
   "display_name": "Python 3 (ipykernel)",
   "language": "python",
   "name": "python3"
  },
  "language_info": {
   "codemirror_mode": {
    "name": "ipython",
    "version": 3
   },
   "file_extension": ".py",
   "mimetype": "text/x-python",
   "name": "python",
   "nbconvert_exporter": "python",
   "pygments_lexer": "ipython3",
   "version": "3.8.6"
  }
 },
 "nbformat": 4,
 "nbformat_minor": 2
}
