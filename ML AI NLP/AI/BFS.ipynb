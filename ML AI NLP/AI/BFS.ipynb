{
 "cells": [
  {
   "cell_type": "code",
   "execution_count": 5,
   "id": "d825c8e0",
   "metadata": {},
   "outputs": [],
   "source": [
    "graph = {\n",
    "    8 : [9, 7, 11],\n",
    "    9 : [6, 5],\n",
    "    7 : [3],\n",
    "    11 : [2, 1],\n",
    "    6 : [],\n",
    "    5 : [],\n",
    "    3 : [],\n",
    "    2 : [],\n",
    "    1 : []\n",
    "}"
   ]
  },
  {
   "cell_type": "code",
   "execution_count": 8,
   "id": "15f0bd03",
   "metadata": {},
   "outputs": [],
   "source": [
    "def BFS(node):\n",
    "    visited = []\n",
    "    queue = []\n",
    "\n",
    "    visited.append(node)\n",
    "    queue.append(node)\n",
    "    \n",
    "    while queue:\n",
    "        m = queue.pop(0)\n",
    "        print(m, end = ' ')\n",
    "        \n",
    "        for x in graph[m]:\n",
    "            if x not in visited:\n",
    "                visited.append(x)\n",
    "                queue.append(x)"
   ]
  },
  {
   "cell_type": "code",
   "execution_count": 12,
   "id": "a894f8db",
   "metadata": {},
   "outputs": [
    {
     "name": "stdout",
     "output_type": "stream",
     "text": [
      "BFS: \n",
      "8 9 7 11 6 5 3 2 1 "
     ]
    }
   ],
   "source": [
    "print('BFS: ')\n",
    "BFS(8)"
   ]
  },
  {
   "cell_type": "code",
   "execution_count": null,
   "id": "651344ed",
   "metadata": {},
   "outputs": [],
   "source": []
  }
 ],
 "metadata": {
  "kernelspec": {
   "display_name": "Python 3 (ipykernel)",
   "language": "python",
   "name": "python3"
  },
  "language_info": {
   "codemirror_mode": {
    "name": "ipython",
    "version": 3
   },
   "file_extension": ".py",
   "mimetype": "text/x-python",
   "name": "python",
   "nbconvert_exporter": "python",
   "pygments_lexer": "ipython3",
   "version": "3.8.6"
  }
 },
 "nbformat": 4,
 "nbformat_minor": 5
}
