{
 "cells": [
  {
   "cell_type": "code",
   "execution_count": 1,
   "id": "3e54950f",
   "metadata": {},
   "outputs": [],
   "source": [
    "def fract(w, arr):\n",
    "    arr.sort(key = lambda x:(x[0]/x[1]), reverse = True)\n",
    "    ans = 0.0\n",
    "    for item in arr:\n",
    "        if item[1] <= w:\n",
    "            w -= item[1]\n",
    "            ans += item[0]\n",
    "        else:\n",
    "            ans += item[0]*w / item[1]\n",
    "            break\n",
    "        return ans"
   ]
  },
  {
   "cell_type": "code",
   "execution_count": 2,
   "id": "253d1695",
   "metadata": {},
   "outputs": [
    {
     "name": "stdout",
     "output_type": "stream",
     "text": [
      "55.0\n"
     ]
    }
   ],
   "source": [
    "w = 36\n",
    "arr = [(55, 10), (25, 10), (25, 15), (6, 4), (2, 2)]\n",
    "max = fract(w, arr)\n",
    "print(max)"
   ]
  },
  {
   "cell_type": "code",
   "execution_count": null,
   "id": "84d1096a",
   "metadata": {},
   "outputs": [],
   "source": []
  }
 ],
 "metadata": {
  "kernelspec": {
   "display_name": "Python 3 (ipykernel)",
   "language": "python",
   "name": "python3"
  },
  "language_info": {
   "codemirror_mode": {
    "name": "ipython",
    "version": 3
   },
   "file_extension": ".py",
   "mimetype": "text/x-python",
   "name": "python",
   "nbconvert_exporter": "python",
   "pygments_lexer": "ipython3",
   "version": "3.8.6"
  }
 },
 "nbformat": 4,
 "nbformat_minor": 5
}
